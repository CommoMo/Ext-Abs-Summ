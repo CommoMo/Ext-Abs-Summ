{
 "cells": [
  {
   "cell_type": "code",
   "execution_count": 1,
   "id": "79e7ed9a",
   "metadata": {},
   "outputs": [],
   "source": [
    "import json"
   ]
  },
  {
   "cell_type": "code",
   "execution_count": 2,
   "id": "96c85d6d",
   "metadata": {},
   "outputs": [],
   "source": [
    "data_path = '../data/opinion/valid_dataset.json'\n",
    "dataset = json.load(open(data_path, encoding='utf-8'))"
   ]
  },
  {
   "cell_type": "code",
   "execution_count": 4,
   "id": "774bcafa",
   "metadata": {},
   "outputs": [],
   "source": [
    "for dataset_type in ['train', 'valid']:\n",
    "    data_path = f'../data/opinion/{dataset_type}_dataset.json'\n",
    "    dataset = json.load(open(data_path, encoding='utf-8'))[:5]\n",
    "    with open(f'../data/temp_{dataset_type}_dataset.json', 'w', encoding='utf-8') as f:\n",
    "        json.dump(dataset, f, ensure_ascii=False, indent='\\t')"
   ]
  }
 ],
 "metadata": {
  "kernelspec": {
   "display_name": "Python 3 (ipykernel)",
   "language": "python",
   "name": "python3"
  },
  "language_info": {
   "codemirror_mode": {
    "name": "ipython",
    "version": 3
   },
   "file_extension": ".py",
   "mimetype": "text/x-python",
   "name": "python",
   "nbconvert_exporter": "python",
   "pygments_lexer": "ipython3",
   "version": "3.7.11"
  }
 },
 "nbformat": 4,
 "nbformat_minor": 5
}
